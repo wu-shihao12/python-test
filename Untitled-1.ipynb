{
 "cells": [
  {
   "cell_type": "code",
   "execution_count": null,
   "id": "0b0489d8",
   "metadata": {},
   "outputs": [],
   "source": [
    "python3 -version"
   ]
  },
  {
   "cell_type": "code",
   "execution_count": null,
   "id": "5088ab25",
   "metadata": {},
   "outputs": [],
   "source": []
  }
 ],
 "metadata": {
  "language_info": {
   "name": "python"
  }
 },
 "nbformat": 4,
 "nbformat_minor": 5
}
